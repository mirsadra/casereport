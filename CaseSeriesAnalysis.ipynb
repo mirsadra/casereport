{
  "nbformat": 4,
  "nbformat_minor": 0,
  "metadata": {
    "colab": {
      "provenance": [],
      "authorship_tag": "ABX9TyP5jm43FqpNSSDKiUQYQk9j",
      "include_colab_link": true
    },
    "kernelspec": {
      "name": "python3",
      "display_name": "Python 3"
    },
    "language_info": {
      "name": "python"
    }
  },
  "cells": [
    {
      "cell_type": "markdown",
      "metadata": {
        "id": "view-in-github",
        "colab_type": "text"
      },
      "source": [
        "<a href=\"https://colab.research.google.com/github/mirsadra/casereport/blob/main/CaseSeriesAnalysis.ipynb\" target=\"_parent\"><img src=\"https://colab.research.google.com/assets/colab-badge.svg\" alt=\"Open In Colab\"/></a>"
      ]
    },
    {
      "cell_type": "code",
      "execution_count": 1,
      "metadata": {
        "colab": {
          "base_uri": "https://localhost:8080/"
        },
        "id": "yCI4DLpfRWlD",
        "outputId": "b17f0f9b-e692-448a-9ffe-e5eda4c9b9e7"
      },
      "outputs": [
        {
          "output_type": "stream",
          "name": "stdout",
          "text": [
            "Collecting biopython\n",
            "  Downloading biopython-1.81-cp310-cp310-manylinux_2_17_x86_64.manylinux2014_x86_64.whl (3.1 MB)\n",
            "\u001b[2K     \u001b[90m━━━━━━━━━━━━━━━━━━━━━━━━━━━━━━━━━━━━━━━━\u001b[0m \u001b[32m3.1/3.1 MB\u001b[0m \u001b[31m9.8 MB/s\u001b[0m eta \u001b[36m0:00:00\u001b[0m\n",
            "\u001b[?25hRequirement already satisfied: numpy in /usr/local/lib/python3.10/dist-packages (from biopython) (1.23.5)\n",
            "Installing collected packages: biopython\n",
            "Successfully installed biopython-1.81\n"
          ]
        }
      ],
      "source": [
        "!pip install biopython"
      ]
    },
    {
      "cell_type": "code",
      "source": [
        "from Bio import Entrez\n",
        "import pandas as pd\n",
        "import numpy as np\n",
        "from google.colab import files"
      ],
      "metadata": {
        "id": "D3w4QWJnRp3F"
      },
      "execution_count": 4,
      "outputs": []
    },
    {
      "cell_type": "markdown",
      "source": [
        "# Section 1: Data Fetch (PubMed)"
      ],
      "metadata": {
        "id": "KkLCtf9IRxu7"
      }
    },
    {
      "cell_type": "code",
      "source": [
        "def search_multiple_terms(query):\n",
        "    Entrez.email = 'miirsadra@gmail.com'\n",
        "    handle = Entrez.esearch(db='pubmed',\n",
        "                            sort='publication date',\n",
        "                            retmax='250000',\n",
        "                            retmode='xml',\n",
        "                            term=query + ' AND Case Reports[PT]')\n",
        "    results = Entrez.read(handle)\n",
        "    return results\n",
        "\n",
        "query = '((renal ectopia) OR (ectopic kidney)) AND ((ectopic ureter) OR (ureteral ectopia)) AND ((crossed) OR (fused) OR (cross) OR (fuse))'\n",
        "\n",
        "studies = search_multiple_terms(query)\n",
        "studiesIdList = studies['IdList']\n",
        "\n",
        "def fetch_details(id_list):\n",
        "    ids = ','.join(id_list)\n",
        "    Entrez.email = 'miirsadra@gmail.com'\n",
        "    handle = Entrez.efetch(db='pubmed',\n",
        "                           retmode='xml',\n",
        "                           id=ids)\n",
        "    results = Entrez.read(handle)\n",
        "    return results\n",
        "\n",
        "# Building dataframe\n",
        "title_list= []\n",
        "abstract_list=[]\n",
        "journal_list = []\n",
        "language_list =[]\n",
        "pubdate_year_list = []\n",
        "pubdate_month_list = []\n",
        "chunk_size = 10000\n",
        "\n",
        "for chunk_i in range(0, len(studiesIdList), chunk_size):\n",
        "    chunk = studiesIdList[chunk_i:chunk_i + chunk_size]\n",
        "    papers = fetch_details(chunk)\n",
        "    for i, paper in enumerate(papers['PubmedArticle']):\n",
        "        title_list.append(paper['MedlineCitation']['Article']['ArticleTitle'])\n",
        "        try:\n",
        "            abstract_list.append(paper['MedlineCitation']['Article']['Abstract']['AbstractText'][0])\n",
        "        except:\n",
        "            abstract_list.append('No Abstract')\n",
        "        journal_list.append(paper['MedlineCitation']['Article']['Journal']['Title'])\n",
        "        language_list.append(paper['MedlineCitation']['Article']['Language'][0])\n",
        "        try:\n",
        "            pubdate_year_list.append(paper['MedlineCitation']['Article']['Journal']['JournalIssue']['PubDate']['Year'])\n",
        "        except:\n",
        "            pubdate_year_list.append('No Data')\n",
        "        try:\n",
        "            pubdate_month_list.append(paper['MedlineCitation']['Article']['Journal']['JournalIssue']['PubDate']['Month'])\n",
        "        except:\n",
        "            pubdate_month_list.append('No Data')\n",
        "\n",
        "df = pd.DataFrame(list(zip(title_list, abstract_list, journal_list, language_list, pubdate_year_list, pubdate_month_list)),\n",
        "                  columns=['Title', 'Abstract', 'Journal', 'Language', 'Year','Month'])\n",
        "\n",
        "# Standardizing month format\n",
        "df['Month'].replace({\n",
        "    'Jan': '01', 'Feb': '02', 'Mar': '03', 'Apr': '04', 'May': '05', 'Jun': '06',\n",
        "    'Jul': '07', 'Aug': '08', 'Sep': '09', 'Oct': '10', 'Nov': '11', 'Dec': '12', 'No Data': np.nan\n",
        "}, inplace=True)"
      ],
      "metadata": {
        "id": "eD1Fr2i_RuRd"
      },
      "execution_count": 3,
      "outputs": []
    },
    {
      "cell_type": "code",
      "source": [
        "df.to_csv('pubmed_fetch.csv', index=False)\n",
        "files.download('pubmed_fetch.csv')"
      ],
      "metadata": {
        "colab": {
          "base_uri": "https://localhost:8080/",
          "height": 17
        },
        "id": "8ip6oaVDTjit",
        "outputId": "432b98f5-c3cd-49d4-e466-14137e0afea8"
      },
      "execution_count": 5,
      "outputs": [
        {
          "output_type": "display_data",
          "data": {
            "text/plain": [
              "<IPython.core.display.Javascript object>"
            ],
            "application/javascript": [
              "\n",
              "    async function download(id, filename, size) {\n",
              "      if (!google.colab.kernel.accessAllowed) {\n",
              "        return;\n",
              "      }\n",
              "      const div = document.createElement('div');\n",
              "      const label = document.createElement('label');\n",
              "      label.textContent = `Downloading \"${filename}\": `;\n",
              "      div.appendChild(label);\n",
              "      const progress = document.createElement('progress');\n",
              "      progress.max = size;\n",
              "      div.appendChild(progress);\n",
              "      document.body.appendChild(div);\n",
              "\n",
              "      const buffers = [];\n",
              "      let downloaded = 0;\n",
              "\n",
              "      const channel = await google.colab.kernel.comms.open(id);\n",
              "      // Send a message to notify the kernel that we're ready.\n",
              "      channel.send({})\n",
              "\n",
              "      for await (const message of channel.messages) {\n",
              "        // Send a message to notify the kernel that we're ready.\n",
              "        channel.send({})\n",
              "        if (message.buffers) {\n",
              "          for (const buffer of message.buffers) {\n",
              "            buffers.push(buffer);\n",
              "            downloaded += buffer.byteLength;\n",
              "            progress.value = downloaded;\n",
              "          }\n",
              "        }\n",
              "      }\n",
              "      const blob = new Blob(buffers, {type: 'application/binary'});\n",
              "      const a = document.createElement('a');\n",
              "      a.href = window.URL.createObjectURL(blob);\n",
              "      a.download = filename;\n",
              "      div.appendChild(a);\n",
              "      a.click();\n",
              "      div.remove();\n",
              "    }\n",
              "  "
            ]
          },
          "metadata": {}
        },
        {
          "output_type": "display_data",
          "data": {
            "text/plain": [
              "<IPython.core.display.Javascript object>"
            ],
            "application/javascript": [
              "download(\"download_5d491cb4-804c-4705-8cdf-5a329e552f3d\", \"pubmed_fetch.csv\", 85607)"
            ]
          },
          "metadata": {}
        }
      ]
    },
    {
      "cell_type": "code",
      "source": [],
      "metadata": {
        "id": "vkCEVhu9Tt0f"
      },
      "execution_count": null,
      "outputs": []
    }
  ]
}